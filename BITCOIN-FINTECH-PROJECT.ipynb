{
 "cells": [
  {
   "cell_type": "code",
   "execution_count": 1,
   "id": "e4703588-e4bf-4618-834c-64c12cd93dbf",
   "metadata": {},
   "outputs": [
    {
     "name": "stdout",
     "output_type": "stream",
     "text": [
      "      Timestamp  Open  High   Low  Close  Volume\n",
      "0  1.325412e+09  4.58  4.58  4.58   4.58     0.0\n",
      "1  1.325412e+09  4.58  4.58  4.58   4.58     0.0\n",
      "2  1.325412e+09  4.58  4.58  4.58   4.58     0.0\n",
      "3  1.325412e+09  4.58  4.58  4.58   4.58     0.0\n",
      "4  1.325412e+09  4.58  4.58  4.58   4.58     0.0\n",
      "5  1.325412e+09  4.58  4.58  4.58   4.58     0.0\n",
      "6  1.325412e+09  4.58  4.58  4.58   4.58     0.0\n",
      "7  1.325412e+09  4.58  4.58  4.58   4.58     0.0\n",
      "8  1.325413e+09  4.58  4.58  4.58   4.58     0.0\n",
      "9  1.325413e+09  4.58  4.58  4.58   4.58     0.0\n"
     ]
    }
   ],
   "source": [
    "import pandas as pd\n",
    "\n",
    "###### Load the CSV file #######\n",
    "df = pd.read_csv(r\"C:\\Users\\user\\Downloads\\btcusd_1-min_data.csv\")\n",
    "#### Show the first row\n",
    "print(df.head(10))"
   ]
  },
  {
   "cell_type": "code",
   "execution_count": 3,
   "id": "4928299b-d4b3-4ac2-99f6-ad19525e354b",
   "metadata": {},
   "outputs": [
    {
     "name": "stdout",
     "output_type": "stream",
     "text": [
      "      Timestamp  Open  High   Low  Close  Volume\n",
      "0  1.325412e+09  4.58  4.58  4.58   4.58     0.0\n",
      "1  1.325412e+09  4.58  4.58  4.58   4.58     0.0\n",
      "2  1.325412e+09  4.58  4.58  4.58   4.58     0.0\n",
      "3  1.325412e+09  4.58  4.58  4.58   4.58     0.0\n",
      "4  1.325412e+09  4.58  4.58  4.58   4.58     0.0\n",
      "5  1.325412e+09  4.58  4.58  4.58   4.58     0.0\n",
      "6  1.325412e+09  4.58  4.58  4.58   4.58     0.0\n",
      "7  1.325412e+09  4.58  4.58  4.58   4.58     0.0\n",
      "8  1.325413e+09  4.58  4.58  4.58   4.58     0.0\n",
      "9  1.325413e+09  4.58  4.58  4.58   4.58     0.0\n"
     ]
    }
   ],
   "source": [
    "import pandas as pd\n",
    "\n",
    "###### Load the CSV file #######\n",
    "df = pd.read_csv(r\"C:\\Users\\user\\Downloads\\btcusd_1-min_data.csv\")\n",
    "#### Show the first row\n",
    "print(df.head(10))"
   ]
  },
  {
   "cell_type": "code",
   "execution_count": 5,
   "id": "5b4ad37a-3715-4f76-a1dc-fa28bc8d1e00",
   "metadata": {},
   "outputs": [
    {
     "data": {
      "text/plain": [
       "Index(['Timestamp', 'Open', 'High', 'Low', 'Close', 'Volume'], dtype='object')"
      ]
     },
     "execution_count": 5,
     "metadata": {},
     "output_type": "execute_result"
    }
   ],
   "source": [
    "df.columns"
   ]
  },
  {
   "cell_type": "code",
   "execution_count": 7,
   "id": "a77c78e4-a79f-408d-9164-ead8cbbef3f9",
   "metadata": {},
   "outputs": [
    {
     "data": {
      "text/plain": [
       "Index(['Timestamp', 'Open', 'High', 'Low', 'Close', 'Volume'], dtype='object')"
      ]
     },
     "execution_count": 7,
     "metadata": {},
     "output_type": "execute_result"
    }
   ],
   "source": [
    "df.columns"
   ]
  },
  {
   "cell_type": "code",
   "execution_count": 9,
   "id": "00235a26-d9f4-4065-a162-0be672b18a1a",
   "metadata": {},
   "outputs": [
    {
     "name": "stdout",
     "output_type": "stream",
     "text": [
      "['Timestamp', 'Open', 'High', 'Low', 'Close', 'Volume']\n"
     ]
    }
   ],
   "source": [
    "print(df.columns.tolist())"
   ]
  },
  {
   "cell_type": "code",
   "execution_count": 11,
   "id": "3b182e1b-0881-4056-9efa-dd7ce697c0a8",
   "metadata": {},
   "outputs": [
    {
     "name": "stdout",
     "output_type": "stream",
     "text": [
      "                     Open  High   Low  Close  Volume\n",
      "Timestamp                                           \n",
      "2012-01-01 10:01:00  4.58  4.58  4.58   4.58     0.0\n",
      "2012-01-01 10:02:00  4.58  4.58  4.58   4.58     0.0\n",
      "2012-01-01 10:03:00  4.58  4.58  4.58   4.58     0.0\n",
      "2012-01-01 10:04:00  4.58  4.58  4.58   4.58     0.0\n",
      "2012-01-01 10:05:00  4.58  4.58  4.58   4.58     0.0\n"
     ]
    }
   ],
   "source": [
    "# Convert Unix timestamp to datetime\n",
    "df['Timestamp'] = pd.to_datetime(df['Timestamp'], unit='s')\n",
    "\n",
    "# Set timestamp as index (optional but useful)\n",
    "df = df.set_index('Timestamp')\n",
    "\n",
    "# Preview the first few rows\n",
    "print(df.head())"
   ]
  },
  {
   "cell_type": "code",
   "execution_count": 13,
   "id": "14c693e0-3932-48f3-a6f6-d20df682559e",
   "metadata": {},
   "outputs": [],
   "source": [
    "# Lag features (previous values of 'Close')\n",
    "df['Close_Lag1'] = df['Close'].shift(1)\n",
    "df['Close_Lag2'] = df['Close'].shift(2)\n",
    "\n",
    "# Moving Averages\n",
    "df['MA_7'] = df['Close'].rolling(window=7).mean()\n",
    "df['MA_14'] = df['Close'].rolling(window=14).mean()\n",
    "\n",
    "# Rolling Standard Deviation (volatility)\n",
    "df['STD_7'] = df['Close'].rolling(window=7).std()\n",
    "\n",
    "# Drop rows with NaN (due to shifting and rolling)\n",
    "df = df.dropna()"
   ]
  },
  {
   "cell_type": "code",
   "execution_count": 14,
   "id": "b61fab57-7deb-44ff-9ee9-a2e470a32e8d",
   "metadata": {},
   "outputs": [],
   "source": [
    "# Define features and target variable\n",
    "features = ['Open', 'High', 'Low', 'Volume', 'Close_Lag1', 'Close_Lag2', 'MA_7', 'MA_14', 'STD_7']\n",
    "target = 'Close'\n",
    "\n",
    "X = df[features]\n",
    "y = df[target]"
   ]
  },
  {
   "cell_type": "code",
   "execution_count": 17,
   "id": "daa44267-949e-43f7-b292-5a6afa10776f",
   "metadata": {},
   "outputs": [],
   "source": [
    "from sklearn.model_selection import train_test_split\n",
    "\n",
    "# Split the dataset (no shuffle to preserve time order)\n",
    "X_train, X_test, y_train, y_test = train_test_split(X, y, test_size=0.2, shuffle=False)"
   ]
  },
  {
   "cell_type": "code",
   "execution_count": 19,
   "id": "db79d017-6461-4459-871d-5eda1f32cb41",
   "metadata": {},
   "outputs": [],
   "source": [
    "# Keep only the last 100,000 rows\n",
    "df_small = df.tail(100000)\n",
    "\n",
    "X = df_small[features]\n",
    "y = df_small[target]\n",
    "\n",
    "# Train-test split again\n",
    "X_train, X_test, y_train, y_test = train_test_split(X, y, test_size=0.2, shuffle=False)"
   ]
  },
  {
   "cell_type": "code",
   "execution_count": 17,
   "id": "25a22d56-116f-4468-8bb1-acc41136193b",
   "metadata": {},
   "outputs": [],
   "source": [
    "from sklearn.linear_model import LinearRegression\n",
    "\n",
    "model = LinearRegression()\n",
    "model.fit(X_train, y_train)\n",
    "y_pred = model.predict(X_test)"
   ]
  },
  {
   "cell_type": "code",
   "execution_count": 19,
   "id": "440df844-2133-40e2-b474-5b6594a844e5",
   "metadata": {},
   "outputs": [],
   "source": [
    "X_train = X_train.astype('float32')\n",
    "X_test = X_test.astype('float32')\n",
    "y_train = y_train.astype('float32')\n",
    "y_test = y_test.astype('float32')"
   ]
  },
  {
   "cell_type": "code",
   "execution_count": 21,
   "id": "42f53d32-6f57-482b-891c-0648f19f8eca",
   "metadata": {},
   "outputs": [],
   "source": [
    "import pandas as pd\n",
    "import numpy as np\n",
    "from sklearn.ensemble import RandomForestRegressor\n",
    "from sklearn.model_selection import train_test_split\n",
    "from sklearn.metrics import mean_squared_error"
   ]
  },
  {
   "cell_type": "code",
   "execution_count": 23,
   "id": "d9f84385-6ec9-4f6d-8996-12a24dc17f23",
   "metadata": {},
   "outputs": [
    {
     "name": "stdout",
     "output_type": "stream",
     "text": [
      "                     Open  High   Low  Close  Volume  Close_Lag1  Close_Lag2  \\\n",
      "Timestamp                                                                      \n",
      "2012-01-01 10:14:00  4.58  4.58  4.58   4.58     0.0        4.58        4.58   \n",
      "2012-01-01 10:15:00  4.58  4.58  4.58   4.58     0.0        4.58        4.58   \n",
      "2012-01-01 10:16:00  4.58  4.58  4.58   4.58     0.0        4.58        4.58   \n",
      "2012-01-01 10:17:00  4.58  4.58  4.58   4.58     0.0        4.58        4.58   \n",
      "2012-01-01 10:18:00  4.58  4.58  4.58   4.58     0.0        4.58        4.58   \n",
      "\n",
      "                     MA_7  MA_14  STD_7  \n",
      "Timestamp                                \n",
      "2012-01-01 10:14:00  4.58   4.58    0.0  \n",
      "2012-01-01 10:15:00  4.58   4.58    0.0  \n",
      "2012-01-01 10:16:00  4.58   4.58    0.0  \n",
      "2012-01-01 10:17:00  4.58   4.58    0.0  \n",
      "2012-01-01 10:18:00  4.58   4.58    0.0  \n",
      "['Open', 'High', 'Low', 'Close', 'Volume', 'Close_Lag1', 'Close_Lag2', 'MA_7', 'MA_14', 'STD_7']\n"
     ]
    }
   ],
   "source": [
    "print(df.head())\n",
    "print(df.columns.tolist())"
   ]
  },
  {
   "cell_type": "code",
   "execution_count": 27,
   "id": "a3584fa8-00ce-4472-841e-65de45a3ea7e",
   "metadata": {},
   "outputs": [],
   "source": [
    "features = ['Open', 'High', 'Low', 'Volume']\n",
    "target = 'Close'\n",
    "\n",
    "X = df[features]\n",
    "y = df[target]"
   ]
  },
  {
   "cell_type": "code",
   "execution_count": 29,
   "id": "3a05c825-ceda-441b-a9e5-681d171ca3f5",
   "metadata": {},
   "outputs": [],
   "source": [
    "X_train, X_test, y_train, y_test = train_test_split(\n",
    "    X, y, test_size=0.2, shuffle=False\n",
    ")"
   ]
  },
  {
   "cell_type": "code",
   "execution_count": 33,
   "id": "01051fef-fee0-4593-9b6d-9f91ce7f535f",
   "metadata": {},
   "outputs": [],
   "source": [
    "df = df.tail(50_000)"
   ]
  },
  {
   "cell_type": "code",
   "execution_count": 35,
   "id": "9177cac6-df71-4309-8e59-80a17e941a59",
   "metadata": {},
   "outputs": [],
   "source": [
    "df = df.tail(20_000)"
   ]
  },
  {
   "cell_type": "code",
   "execution_count": 37,
   "id": "fd9d114e-4ade-4f83-b1a4-d6ed4aed8301",
   "metadata": {},
   "outputs": [],
   "source": [
    "features = ['Open', 'High', 'Low', 'Volume']  # drop lags, MA etc\n",
    "target = 'Close'\n",
    "\n",
    "X = df[features]\n",
    "y = df[target]"
   ]
  },
  {
   "cell_type": "code",
   "execution_count": 39,
   "id": "ed0e15b7-0ffc-4644-89a3-a91ed7dc47b6",
   "metadata": {},
   "outputs": [],
   "source": [
    "model = RandomForestRegressor(n_estimators=10, random_state=42)"
   ]
  },
  {
   "cell_type": "code",
   "execution_count": 41,
   "id": "51633551-fd64-4d1f-b27c-cd5a4dfc3acd",
   "metadata": {
    "scrolled": true
   },
   "outputs": [
    {
     "name": "stdout",
     "output_type": "stream",
     "text": [
      "MSE: 46610.16508749952\n"
     ]
    }
   ],
   "source": [
    "import pandas as pd\n",
    "from sklearn.ensemble import RandomForestRegressor\n",
    "from sklearn.model_selection import train_test_split\n",
    "from sklearn.metrics import mean_squared_error\n",
    "\n",
    "# Load your data (already loaded as df)\n",
    "df = df.tail(20000)  # Keep only last 20k rows\n",
    "\n",
    "# Optional: convert Timestamp to datetime if needed\n",
    "# df['Timestamp'] = pd.to_datetime(df['Timestamp'], unit='s')\n",
    "# df = df.set_index('Timestamp')\n",
    "\n",
    "# Select features\n",
    "features = ['Open', 'High', 'Low', 'Volume']\n",
    "target = 'Close'\n",
    "\n",
    "X = df[features]\n",
    "y = df[target]\n",
    "\n",
    "# Train/test split\n",
    "X_train, X_test, y_train, y_test = train_test_split(X, y, test_size=0.2, shuffle=False)\n",
    "\n",
    "# Use small model to avoid MemoryError\n",
    "model = RandomForestRegressor(n_estimators=10, random_state=42)\n",
    "model.fit(X_train, y_train)\n",
    "\n",
    "# Predict\n",
    "y_pred = model.predict(X_test)\n",
    "print(\"MSE:\", mean_squared_error(y_test, y_pred))"
   ]
  },
  {
   "cell_type": "code",
   "execution_count": 43,
   "id": "7785b0d6-a3ec-4e77-bbb2-5a00371ef2a4",
   "metadata": {},
   "outputs": [
    {
     "name": "stdout",
     "output_type": "stream",
     "text": [
      "MAE: 65.16307499999968\n",
      "R² score: 0.9323240352835356\n"
     ]
    }
   ],
   "source": [
    "from sklearn.metrics import mean_absolute_error, r2_score\n",
    "\n",
    "print(\"MAE:\", mean_absolute_error(y_test, y_pred))\n",
    "print(\"R² score:\", r2_score(y_test, y_pred))"
   ]
  },
  {
   "cell_type": "code",
   "execution_count": 45,
   "id": "8c6270ca-8a3b-468b-a263-ba73557cf27e",
   "metadata": {},
   "outputs": [
    {
     "data": {
      "image/png": "[encoded data removed]",
      "text/plain": [
       "<Figure size 1000x500 with 1 Axes>"
      ]
     },
     "metadata": {},
     "output_type": "display_data"
    }
   ],
   "source": [
    "import matplotlib.pyplot as plt\n",
    "\n",
    "plt.figure(figsize=(10,5))\n",
    "plt.plot(y_test.values[:200], label='Actual')\n",
    "plt.plot(y_pred[:200], label='Predicted')\n",
    "plt.legend()\n",
    "plt.title(\"Actual vs Predicted Prices\")\n",
    "plt.xlabel(\"Time\")\n",
    "plt.ylabel(\"Price\")\n",
    "plt.show()"
   ]
  },
  {
   "cell_type": "code",
   "execution_count": 47,
   "id": "fa447699-dc50-466a-bfb9-1ea0ef054ce9",
   "metadata": {},
   "outputs": [
    {
     "name": "stdout",
     "output_type": "stream",
     "text": [
      "Open: 0.0001\n",
      "High: 0.2286\n",
      "Low: 0.7713\n",
      "Volume: 0.0000\n"
     ]
    }
   ],
   "source": [
    "importances = model.feature_importances_\n",
    "features = X_train.columns\n",
    "\n",
    "for name, score in zip(features, importances):\n",
    "    print(f\"{name}: {score:.4f}\")"
   ]
  },
  {
   "cell_type": "code",
   "execution_count": 54,
   "id": "f32eb0ce-4e41-45a0-a6e9-d676ebc25d64",
   "metadata": {},
   "outputs": [
    {
     "data": {
      "image/png": "[encoded data removed]",
      "text/plain": [
       "<Figure size 1000x500 with 1 Axes>"
      ]
     },
     "metadata": {},
     "output_type": "display_data"
    },
    {
     "name": "stdout",
     "output_type": "stream",
     "text": [
      "Open: 0.0001\n",
      "High: 0.2286\n",
      "Low: 0.7713\n",
      "Volume: 0.0000\n"
     ]
    }
   ],
   "source": [
    "importances = model.feature_importances_\n",
    "features = X_train.columns\n",
    "\n",
    "plt.figure(figsize=(10,5))\n",
    "plt.barh(features, importances, color='green')\n",
    "plt.title('Feature Importances')\n",
    "plt.xlabel('Importance Score')\n",
    "plt.grid(True)\n",
    "plt.show()\n",
    "\n",
    "# Optional printout\n",
    "for name, score in zip(features, importances):\n",
    "    print(f\"{name}: {score:.4f}\")"
   ]
  },
  {
   "cell_type": "code",
   "execution_count": null,
   "id": "40c6ffe5-cf0d-4b33-8eb9-64518de9f0b9",
   "metadata": {},
   "outputs": [],
   "source": []
  }
 ],
 "metadata": {
  "kernelspec": {
   "display_name": "Python 3 (ipykernel)",
   "language": "python",
   "name": "python3"
  },
  "language_info": {
   "codemirror_mode": {
    "name": "ipython",
    "version": 3
   },
   "file_extension": ".py",
   "mimetype": "text/x-python",
   "name": "python",
   "nbconvert_exporter": "python",
   "pygments_lexer": "ipython3",
   "version": "3.12.7"
  }
 },
 "nbformat": 4,
 "nbformat_minor": 5
}
